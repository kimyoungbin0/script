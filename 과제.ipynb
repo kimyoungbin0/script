{
 "cells": [
  {
   "cell_type": "code",
   "execution_count": 98,
   "id": "f0738fc0",
   "metadata": {},
   "outputs": [
    {
     "data": {
      "text/plain": [
       "1"
      ]
     },
     "execution_count": 98,
     "metadata": {},
     "output_type": "execute_result"
    }
   ],
   "source": [
    "# 1-1\n",
    "1 and 2 and 3 and 4 \n",
    "\n",
    "    ## and연산은 그 앞에 있는게 true여도 뒤에 있는 것을 확인해봐야하기에 1,2,3 true를 확인하고 4가 나온다"
   ]
  },
  {
   "cell_type": "code",
   "execution_count": 10,
   "id": "44483ceb",
   "metadata": {},
   "outputs": [
    {
     "data": {
      "text/plain": [
       "1"
      ]
     },
     "execution_count": 10,
     "metadata": {},
     "output_type": "execute_result"
    }
   ],
   "source": [
    "# 1-2\n",
    "1 or 2 or 3 or 4 \n",
    "\n",
    "    ## or연산은 하나라도 맞으면 true이기 때문에 1이 true이기에 바로 1이 나온다"
   ]
  },
  {
   "cell_type": "code",
   "execution_count": 9,
   "id": "2b677e38",
   "metadata": {},
   "outputs": [
    {
     "data": {
      "text/plain": [
       "2"
      ]
     },
     "execution_count": 9,
     "metadata": {},
     "output_type": "execute_result"
    }
   ],
   "source": [
    "# 1-3\n",
    "1 and 2 or 3 and 4 \n",
    "\n",
    "    ## 1을 true니 and연산에 의해 2도 확인하게 되고 2도 true고 다음 연산이 or이기에 바로 2가 나온다"
   ]
  },
  {
   "cell_type": "code",
   "execution_count": 99,
   "id": "56cf1c6e",
   "metadata": {},
   "outputs": [
    {
     "data": {
      "text/plain": [
       "2"
      ]
     },
     "execution_count": 99,
     "metadata": {},
     "output_type": "execute_result"
    }
   ],
   "source": [
    "# 1-4\n",
    "(1 and 2) or (3 and 4)\n",
    "\n",
    "    ## (1 and 2)는 1이 true이기에 뒤에 있는 2, (3 and 4)도 3이 true이기에 뒤에 있는 4가 나온다\n",
    "    ## 2는 true이고 뒤에 or이 있으므로 바로 2가 나온다"
   ]
  },
  {
   "cell_type": "code",
   "execution_count": 7,
   "id": "fc48026b",
   "metadata": {
    "scrolled": true
   },
   "outputs": [
    {
     "data": {
      "text/plain": [
       "1"
      ]
     },
     "execution_count": 7,
     "metadata": {},
     "output_type": "execute_result"
    }
   ],
   "source": [
    "# 1-5\n",
    "1 or 2 and 3 or 4     \n",
    "\n",
    "    ## 1은 true이고 바로 뒤에 or이 있으므로 1이 나온다"
   ]
  },
  {
   "cell_type": "code",
   "execution_count": 58,
   "id": "d5e56578",
   "metadata": {},
   "outputs": [
    {
     "data": {
      "text/plain": [
       "3"
      ]
     },
     "execution_count": 58,
     "metadata": {},
     "output_type": "execute_result"
    }
   ],
   "source": [
    "# 1-6\n",
    "(1 or 2) and (3 or 4) \n",
    "\n",
    "    ## (1 or 2)는 1이 true이기에 앞에있는 1, (3 or 4)도 3이 true이기에 앞에 있는 3이 나온다\n",
    "    ## 1은 true이고 뒤에 and가 있으므로 바로 3이 나온다"
   ]
  },
  {
   "cell_type": "code",
   "execution_count": 79,
   "id": "0edf2138",
   "metadata": {},
   "outputs": [
    {
     "data": {
      "text/plain": [
       "['/home/chulsoo', 'test.txt']"
      ]
     },
     "execution_count": 79,
     "metadata": {},
     "output_type": "execute_result"
    }
   ],
   "source": [
    "# 2번\n",
    "def div_path(s):\n",
    "    new_path=''\n",
    "    n_path=list()\n",
    "    path=s.split('/')\n",
    "    for i in range(1,len(path)-1):\n",
    "        new_path+='/'\n",
    "        new_path+=path[i]\n",
    "    n_path.append(new_path)\n",
    "    n_path.append(path[len(path)-1])\n",
    "    return n_path\n",
    "div_path('/home/chulsoo/test.txt')\n",
    "\n",
    "    ## split 함수를 통해 분리한 뒤에 마지막 값만 뻬고 합쳐서 문제를 품"
   ]
  },
  {
   "cell_type": "code",
   "execution_count": 100,
   "id": "3ec2fdbb",
   "metadata": {},
   "outputs": [
    {
     "data": {
      "text/plain": [
       "[0, 1, 2]"
      ]
     },
     "execution_count": 100,
     "metadata": {},
     "output_type": "execute_result"
    }
   ],
   "source": [
    "# 3번\n",
    "def list_union(a, b):\n",
    "    s_list=list()\n",
    "    \n",
    "    check=list()\n",
    "   \n",
    "    i=0\n",
    "    i2=0\n",
    "    len_=len(a)\n",
    "    \n",
    "    while(True):\n",
    "        i2=i+1\n",
    "        if(i==len_): break\n",
    "        while(True):\n",
    "            if(i2==len_): break\n",
    "            if(a[i]==a[i2]):\n",
    "                a.remove(i)\n",
    "                len_-=1\n",
    "                i-=1\n",
    "                break\n",
    "            i2+=1\n",
    "        i+=1\n",
    "    \n",
    "    i=0\n",
    "    i2=0\n",
    "    len_=len(b)\n",
    "    while(True):\n",
    "        i2=i+1\n",
    "        if(i==len_): break\n",
    "        while(True):\n",
    "            if(i2==len_): break\n",
    "            if(b[i]==b[i2]):\n",
    "                b.remove(b[i])\n",
    "                len_-=1\n",
    "                i-=1\n",
    "                break\n",
    "            i2+=1\n",
    "        i+=1\n",
    "    \n",
    "    s2_list=a+b\n",
    "        \n",
    "                \n",
    "                \n",
    "    for i in range(len(a)):\n",
    "        for i2 in range(len(b)):\n",
    "            if(a[i]==b[i2]):\n",
    "                s_list.append(a[i])\n",
    "                \n",
    "    for i in range(len(s_list)):\n",
    "        s2_list.remove(s_list[i])\n",
    "        \n",
    "    return sorted(s2_list)\n",
    "list_union([0, 1, 2], [0, 1, 2])\n",
    "\n",
    "    \n",
    "    ## 반복문을 통해 각 리스트를 집합으로 만들어 준 뒤, 두개를 합치고 교집합을 빼주었다"
   ]
  },
  {
   "cell_type": "code",
   "execution_count": 101,
   "id": "1d581c16",
   "metadata": {},
   "outputs": [
    {
     "data": {
      "text/plain": [
       "[1, 2]"
      ]
     },
     "execution_count": 101,
     "metadata": {},
     "output_type": "execute_result"
    }
   ],
   "source": [
    "# 4번\n",
    "def list_intersection(a, b):\n",
    "    s_list=list()\n",
    "    for i in range(len(a)):\n",
    "        for i2 in range(len(b)):\n",
    "            if(a[i]==b[i2]):\n",
    "                s_list.append(a[i])\n",
    "    return sorted(s_list)\n",
    "list_intersection([1, 2, 3], [1, 2, 4])\n",
    "\n",
    "\n",
    "    ## 두 이중반복문을 통해 두 리스트에 교집합을 찾아서 함수를 만듬"
   ]
  },
  {
   "cell_type": "code",
   "execution_count": 102,
   "id": "4796458a",
   "metadata": {},
   "outputs": [
    {
     "name": "stdout",
     "output_type": "stream",
     "text": [
      "2 이상 10 이하 정수 중 소수 리스트: [2, 3, 5, 7]\n"
     ]
    }
   ],
   "source": [
    "# 5번\n",
    "def print_primenumber(a, b):\n",
    "    s_list=list()\n",
    "    for i in range(a,b+1):\n",
    "        t=0\n",
    "        for i2 in range(1,i+1): \n",
    "            if(i%i2==0): t+=1\n",
    "        if(t==2): s_list.append(i)\n",
    "    print(\"{0} 이상 {1} 이하 정수 중 소수 리스트: {2}\".format(a,b,s_list))\n",
    "print_primenumber(2, 10)\n",
    "    \n",
    "    ## 소수는 자기자신과 1로만 나눠지는 성질을 이용하여 함수를 만듬"
   ]
  },
  {
   "cell_type": "code",
   "execution_count": 105,
   "id": "f89bd383",
   "metadata": {},
   "outputs": [],
   "source": [
    "#[Incremental Project 문제]\n",
    "\n",
    "import requests\n",
    "\n",
    "req = requests.get('https://fastcampus.co.kr/')\n",
    "\n",
    "source = req.text\n",
    "\n",
    "print(source)"
   ]
  },
  {
   "cell_type": "code",
   "execution_count": 104,
   "id": "7d7589c6",
   "metadata": {},
   "outputs": [
    {
     "name": "stdout",
     "output_type": "stream",
     "text": [
      "패스트캠퍼스--var agent = navigator.userAgent.toLowerCase();if ((navigator.appName == 'Netscape' && agent.indexOf('trident') != -1) || agent.indexOf('msie') != -1) {// ie일 경우window.location = '/info/browsers';\t}패스트캠퍼스 8주년 기념 쿠폰이벤트! 상단 배너 닫기강의HOT DEBUT해피 패캠 위크강의 2+1강의 2개가격으로 3개10.1 - 10.11 까지!지금이 최저가!NEW 신상강의런칭특가에 만나보세요![EVENT]패스트캠퍼스에서수강생을 찾습니다🎁 100% 선물증정 →패스트캠퍼스 8주년 기념모든 회원에게 1만원 쿠폰쏩니다🎉패스트캠퍼스장학생을 모집합니다.누구나 배움으로 변화의 기회를 잡을 수 있도록스프링 포기하지 마세요. 완강까지 책임집니다!JAVA의 정석 저자 남궁성 직강! 완강 후에도 평생 A/S 해드립니다.확장성 높은 iOS 앱 아키텍처 구축슈퍼앱 로직 구현부터 리팩토링까지 프로젝트 실습으로 마스터급변하는 주식 시장제대로 읽어라!강세장, 약세장 모두 이기는All Round Player가 되는 길권오상 회계사의 오프라인 강의 오픈!★패스트캠퍼스 최초 공개★ M&A와 재무적 영향 분석의 모든 것.10가지 편집기법으로 프리미어 LEVEL UP!구독자 35만 유튜버 편집하는여자와 영상, 쉽고 예쁘게 편집해봅시다!제 2의 월급을 만드는 기획의 힘50억을 만들어 낸 비즈니스 가이드를 모두 공개합니다!2022년 교육을 고민하는HRDer라면 주목!조직에 경쟁력을 더할 인사이트를10/28(목) 만나보세요.기업에서 원하는 IT 역량국비지원 받고 준비하자!내일배움카드로본인부담금 2만원부터부담없이 시작하는 B2B 구독서비스이제 임직원교육도 온라인으로 편하게 시작하세요!중지재생[변경 공지] 개인정보처리방침 변경 안내안녕하세요! 패스트캠퍼스를 찾아주신 수강생분들께 진심으로 감사드립니다.개인정보처리방침이 변경되어 안내드립니다.변경된&nbsp;개인정보처리방침은 2021년 9월 24일 0시부터 사전 고지 후 2021년 10월 1일부터 효력이 발생합니다.- 시행예정일 : 2021년 10월 01일 - 변경내용 : 하단 링크를 통해 상세 비교표 확인 가능 (현행 방침과 개정 방침의 내용 비교) ▷Link : 개인정보처리방침 전후비교표2021년 10월 1일 부터 시행 될 주요 개정내용은 하단 상세링크를 통해 확인 가능합니다. ▷ Link : 개인정보처리방침 '개정안' 전문 보기※ 회원 여러분께서 본 공지일로부터 30일 내에 별도 의사표시를 하지 않는 경우, 변경 후 개인정보처리방침에 동의하신 것으로 간주합니다.변경 후 약관의 적용에 동의하지 않는 회원은 이용계약을 해지하고 회원 탈퇴를 요청할 수 있습니다.회원 여러분께 더 좋은 서비스로 보답하겠습니다.감사합니다.2021. 09. 23Hot야근 탈출! 칼퇴를 위한 인강 추천전체오픈1차오픈전체오픈전체오픈Academy업계 탑티어가 구성한 완성형 커리큘럼 강의 사전예약전체오픈사전예약전체오픈Best이번주 베스트셀링 강의1차오픈전체오픈전체오픈3차오픈New사전 예약 최저가! 신규런칭 강의 사전예약사전예약사전예약사전예약사전예약사전예약사전예약사전예약사전예약사전예약1차오픈사전예약사전예약1차오픈3차오픈사전예약1차오픈사전예약1차공개사전예약가장 선두에서 오랜 시간 쌓아온 지식을 전달합니다. The RED.실무자들이 가장 만나고 싶어하는 가장 높은 곳의 연사님이 전해주는 실무 지식을 만나보세요.전체오픈전체오픈전체오픈전체오픈전체오픈1차오픈전체오픈1차오픈1차오픈사전예약사전예약사전예약사전예약사전예약사전예약사전예약사전예약추천 키워드 전체오픈전체오픈전체오픈전체오픈전체오픈전체오픈전체오픈전체오픈전체오픈전체오픈전체오픈전체오픈진행중인 이벤트 특별 링크FAST CAMPUS(주) 데이원컴퍼니대표이사 : 이강민개인정보책임관리자 : 이강민사업자번호 : 810-86-00658사무실 : 서울시 강남구 강남대로 364 미왕빌딩 15층통신판매업 신고번호 : 제 2017-서울강남-01977호학원설립 운영등록번호: 제12484호(강남), 제 2238호(성동)원격평생교육원 : 제 572호 회사회사소개이용약관개인정보처리방침취소/환불 정책자주 묻는 질문공지사항장학 프로그램 소개강사지원채용안내고객지원 02-501-9396결제/환불/계산서 문의 : help@fastcampus.co.kr기타 문의 : help.online@fastcampus.co.kr주중 10시~19시 (점심시간 12~13시 / 주말 및 공휴일 제외)scroll back to topBUILD VERSION&dash; prod.-202109290522\n",
      "339\n"
     ]
    }
   ],
   "source": [
    "#[Incremental Project 문제]\n",
    "\n",
    "state=0\n",
    "num=0\n",
    "for i in range(len(source)):\n",
    "    if(source[i]=='<'):\n",
    "        state=1\n",
    "    elif(source[i]=='>'): state=2\n",
    "    elif((state==2 or state==3) and source[i]!='\\n'):\n",
    "        if(source[i]==' ' and source[i-1]!=' ' and source[i-1]!='>'and source[i-1]!='\\n' ):\n",
    "            print(\" \",end='')\n",
    "            num+=1\n",
    "        elif(source[i]!=' '): print(source[i],end='')\n",
    "        state=3\n",
    "print(\"\")\n",
    "print(num)\n",
    "    \n",
    "    \n",
    "    ## <가 나오면 >가 나올때까지 변수에 단어를 넣지 않고, 단어를 입력할 때 띄어쓰기의 개수를 구해 단어의 수를 구하였다."
   ]
  },
  {
   "cell_type": "code",
   "execution_count": 78,
   "id": "bf1dd69d",
   "metadata": {},
   "outputs": [],
   "source": [
    "#[Incremental Project 문제]\n",
    "\n",
    "req = requests.get('http://cse.koreatech.ac.kr')\n",
    "\n",
    "source = req.text\n",
    "\n",
    "print(source)"
   ]
  },
  {
   "cell_type": "code",
   "execution_count": 83,
   "id": "5112fbd9",
   "metadata": {},
   "outputs": [
    {
     "name": "stdout",
     "output_type": "stream",
     "text": [
      "var i=1 function move(){ location.href='https://cse.koreatech.ac.kr'; } Page Redirection사이트 폐쇄 안내.특성화 사업 종료로 인한 itcsw.koreatech.ac.kr 사이트가 폐쇄되었습니다.잠시후 컴퓨터공학부 홈페이지로 자동 연결 됩니다.If you are not redirected automatically, follow the link to cse.koreatech.ac.kr\n",
      "30\n"
     ]
    }
   ],
   "source": [
    "#[Incremental Project 문제]\n",
    "\n",
    "state=0\n",
    "num=0\n",
    "for i in range(len(source)):\n",
    "    if(source[i]=='<'):\n",
    "        state=1\n",
    "    elif(source[i]=='>'): state=2\n",
    "    elif((state==2 or state==3) and source[i]!='\\n'):\n",
    "        if(source[i]==' ' and source[i-1]!=' ' and source[i-1]!='>'and source[i-1]!='\\n' ):\n",
    "            print(\" \",end='')\n",
    "            num+=1\n",
    "        elif(source[i]!=' '): print(source[i],end='')\n",
    "        state=3\n",
    "print(\"\")\n",
    "print(num)\n",
    "    \n",
    "    \n",
    "    ## <가 나오면 >가 나올때까지 변수에 단어를 넣지 않고, 단어를 입력할 때 띄어쓰기의 개수를 구해 단어의 수를 구하였다."
   ]
  },
  {
   "cell_type": "code",
   "execution_count": null,
   "id": "52ddfc70",
   "metadata": {},
   "outputs": [],
   "source": [
    "# 다른 문제는 할만했으나 마지막 문제는 힘들었던것 같다 html을 처음 접해보니 너무 낯설었다."
   ]
  }
 ],
 "metadata": {
  "kernelspec": {
   "display_name": "Python 3",
   "language": "python",
   "name": "python3"
  },
  "language_info": {
   "codemirror_mode": {
    "name": "ipython",
    "version": 3
   },
   "file_extension": ".py",
   "mimetype": "text/x-python",
   "name": "python",
   "nbconvert_exporter": "python",
   "pygments_lexer": "ipython3",
   "version": "3.8.8"
  }
 },
 "nbformat": 4,
 "nbformat_minor": 5
}
