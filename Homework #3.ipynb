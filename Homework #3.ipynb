{
 "cells": [
  {
   "cell_type": "markdown",
   "id": "8b7072c5",
   "metadata": {},
   "source": [
    "# 1\n"
   ]
  },
  {
   "cell_type": "markdown",
   "id": "405d874d",
   "metadata": {},
   "source": [
    "### 1-1"
   ]
  },
  {
   "cell_type": "code",
   "execution_count": 123,
   "id": "0b716660",
   "metadata": {},
   "outputs": [
    {
     "name": "stdout",
     "output_type": "stream",
     "text": [
      "[1, 100, 4, 5]\n"
     ]
    }
   ],
   "source": [
    "L=[1, 2, 3, 4, 5]\n",
    "L[1:3] = [100]\n",
    "print(L)"
   ]
  },
  {
   "cell_type": "markdown",
   "id": "a5099a07",
   "metadata": {},
   "source": [
    "#### L[1:3]이 리스트 L에 2,3이 있는 위치인데 거기에다가 리스트 [100]을 넣으니 2,3의 위치에 100이 들어갔다."
   ]
  },
  {
   "cell_type": "markdown",
   "id": "280f4302",
   "metadata": {},
   "source": [
    "### 1-2"
   ]
  },
  {
   "cell_type": "code",
   "execution_count": 12,
   "id": "69f2b3e6",
   "metadata": {},
   "outputs": [
    {
     "name": "stdout",
     "output_type": "stream",
     "text": [
      "[1, 100, 4, 5]\n"
     ]
    }
   ],
   "source": [
    "L=[1, 2, 3, 4, 5]\n",
    "L[1:3] = [(100)]\n",
    "print(L)"
   ]
  },
  {
   "cell_type": "markdown",
   "id": "c684fb6a",
   "metadata": {},
   "source": [
    "#### 1-1 에 ()만 추가되었는데 ()는 연산자처럼 처리되기에 같은 결과값을 가져왔다."
   ]
  },
  {
   "cell_type": "markdown",
   "id": "2fb63380",
   "metadata": {},
   "source": [
    "### 1-3"
   ]
  },
  {
   "cell_type": "code",
   "execution_count": 124,
   "id": "dca361f7",
   "metadata": {},
   "outputs": [
    {
     "ename": "TypeError",
     "evalue": "can only assign an iterable",
     "output_type": "error",
     "traceback": [
      "\u001b[0;31m---------------------------------------------------------------------------\u001b[0m",
      "\u001b[0;31mTypeError\u001b[0m                                 Traceback (most recent call last)",
      "\u001b[0;32m<ipython-input-124-d43eeeef77db>\u001b[0m in \u001b[0;36m<module>\u001b[0;34m\u001b[0m\n\u001b[1;32m      1\u001b[0m \u001b[0;31m# 1-3\u001b[0m\u001b[0;34m\u001b[0m\u001b[0;34m\u001b[0m\u001b[0;34m\u001b[0m\u001b[0m\n\u001b[1;32m      2\u001b[0m \u001b[0mL\u001b[0m\u001b[0;34m=\u001b[0m\u001b[0;34m[\u001b[0m\u001b[0;36m1\u001b[0m\u001b[0;34m,\u001b[0m \u001b[0;36m2\u001b[0m\u001b[0;34m,\u001b[0m \u001b[0;36m3\u001b[0m\u001b[0;34m,\u001b[0m \u001b[0;36m4\u001b[0m\u001b[0;34m,\u001b[0m \u001b[0;36m5\u001b[0m\u001b[0;34m]\u001b[0m\u001b[0;34m\u001b[0m\u001b[0;34m\u001b[0m\u001b[0m\n\u001b[0;32m----> 3\u001b[0;31m \u001b[0mL\u001b[0m\u001b[0;34m[\u001b[0m\u001b[0;36m1\u001b[0m\u001b[0;34m:\u001b[0m\u001b[0;36m3\u001b[0m\u001b[0;34m]\u001b[0m \u001b[0;34m=\u001b[0m \u001b[0;36m100\u001b[0m\u001b[0;34m\u001b[0m\u001b[0;34m\u001b[0m\u001b[0m\n\u001b[0m\u001b[1;32m      4\u001b[0m \u001b[0mprint\u001b[0m\u001b[0;34m(\u001b[0m\u001b[0mL\u001b[0m\u001b[0;34m)\u001b[0m\u001b[0;34m\u001b[0m\u001b[0;34m\u001b[0m\u001b[0m\n",
      "\u001b[0;31mTypeError\u001b[0m: can only assign an iterable"
     ]
    }
   ],
   "source": [
    "L=[1, 2, 3, 4, 5]\n",
    "L[1:3] = 100### 1-2\n",
    "print(L)"
   ]
  },
  {
   "cell_type": "markdown",
   "id": "55d1ec0c",
   "metadata": {},
   "source": [
    "#### 1-1와 같이 리스트에 값은 리스트 형태로 삽입해야하는데 정수 형태로 삽입하여 문제가 발생하였다."
   ]
  },
  {
   "cell_type": "markdown",
   "id": "b254b151",
   "metadata": {},
   "source": [
    "### 1-4"
   ]
  },
  {
   "cell_type": "code",
   "execution_count": 14,
   "id": "59c48748",
   "metadata": {},
   "outputs": [
    {
     "ename": "TypeError",
     "evalue": "can only assign an iterable",
     "output_type": "error",
     "traceback": [
      "\u001b[0;31m---------------------------------------------------------------------------\u001b[0m",
      "\u001b[0;31mTypeError\u001b[0m                                 Traceback (most recent call last)",
      "\u001b[0;32m<ipython-input-14-24b4db9afc90>\u001b[0m in \u001b[0;36m<module>\u001b[0;34m\u001b[0m\n\u001b[1;32m      1\u001b[0m \u001b[0;31m# 1-4\u001b[0m\u001b[0;34m\u001b[0m\u001b[0;34m\u001b[0m\u001b[0;34m\u001b[0m\u001b[0m\n\u001b[1;32m      2\u001b[0m \u001b[0mL\u001b[0m\u001b[0;34m=\u001b[0m\u001b[0;34m[\u001b[0m\u001b[0;36m1\u001b[0m\u001b[0;34m,\u001b[0m \u001b[0;36m2\u001b[0m\u001b[0;34m,\u001b[0m \u001b[0;36m3\u001b[0m\u001b[0;34m,\u001b[0m \u001b[0;36m4\u001b[0m\u001b[0;34m,\u001b[0m \u001b[0;36m5\u001b[0m\u001b[0;34m]\u001b[0m\u001b[0;34m\u001b[0m\u001b[0;34m\u001b[0m\u001b[0m\n\u001b[0;32m----> 3\u001b[0;31m \u001b[0mL\u001b[0m\u001b[0;34m[\u001b[0m\u001b[0;36m1\u001b[0m\u001b[0;34m:\u001b[0m\u001b[0;36m3\u001b[0m\u001b[0;34m]\u001b[0m \u001b[0;34m=\u001b[0m \u001b[0;34m(\u001b[0m\u001b[0;36m100\u001b[0m\u001b[0;34m)\u001b[0m\u001b[0;34m\u001b[0m\u001b[0;34m\u001b[0m\u001b[0m\n\u001b[0m\u001b[1;32m      4\u001b[0m \u001b[0mprint\u001b[0m\u001b[0;34m(\u001b[0m\u001b[0mL\u001b[0m\u001b[0;34m)\u001b[0m\u001b[0;34m\u001b[0m\u001b[0;34m\u001b[0m\u001b[0m\n",
      "\u001b[0;31mTypeError\u001b[0m: can only assign an iterable"
     ]
    }
   ],
   "source": [
    "L=[1, 2, 3, 4, 5]\n",
    "L[1:3] = (100)\n",
    "print(L)"
   ]
  },
  {
   "cell_type": "markdown",
   "id": "fb4d90ef",
   "metadata": {},
   "source": [
    "#### 1-3 과 같은 이유로, 입력 값으로 리스트 형태를 삽입해야하는데 정수 형태로 삽입하였다."
   ]
  },
  {
   "cell_type": "markdown",
   "id": "7f75338c",
   "metadata": {},
   "source": [
    "### 1-5"
   ]
  },
  {
   "cell_type": "code",
   "execution_count": 125,
   "id": "7d2c7e45",
   "metadata": {},
   "outputs": [
    {
     "name": "stdout",
     "output_type": "stream",
     "text": [
      "[1, 100, 101, 102, 4, 5]\n"
     ]
    }
   ],
   "source": [
    "L=[1, 2, 3, 4, 5]\n",
    "L[1:3] = (100, 101, 102)\n",
    "print(L)"
   ]
  },
  {
   "cell_type": "markdown",
   "id": "9ce3ba7e",
   "metadata": {},
   "source": [
    "#### 리스트에 튜플형을 넣었는데 튜플형이 값을 넣은후에 각 항목의 값을 바꿀 수 있는 것을 보아 값이 들어가기전에 리스트형으로 변형이 되어서 들어갔다."
   ]
  },
  {
   "cell_type": "markdown",
   "id": "2e681aaf",
   "metadata": {},
   "source": [
    "### 1-6"
   ]
  },
  {
   "cell_type": "code",
   "execution_count": 18,
   "id": "1bbd6a2e",
   "metadata": {},
   "outputs": [
    {
     "name": "stdout",
     "output_type": "stream",
     "text": [
      "[1, 100, 101, 102, 4, 5]\n"
     ]
    }
   ],
   "source": [
    "L=[1, 2, 3, 4, 5]\n",
    "L[1:3] = [100, 101, 102]\n",
    "print(L)"
   ]
  },
  {
   "cell_type": "markdown",
   "id": "6b050506",
   "metadata": {},
   "source": [
    "#### L의 2, 3이 있는 위치에 [100,101,102]를 넣는데 결과 값을 보기전에는 오류가 생길 것을 예상했으나 넣는 값이 들어갈 위치의 크기보다 커도 자리를 추가해서 뒤에 값들을 뒤로 미루고 삽입 되는 것 같다."
   ]
  },
  {
   "cell_type": "markdown",
   "id": "a88036ed",
   "metadata": {},
   "source": [
    "### 1-7"
   ]
  },
  {
   "cell_type": "code",
   "execution_count": 19,
   "id": "639c4b6c",
   "metadata": {},
   "outputs": [
    {
     "name": "stdout",
     "output_type": "stream",
     "text": [
      "[1, (100, 101, 102), 4, 5]\n"
     ]
    }
   ],
   "source": [
    "L=[1, 2, 3, 4, 5]\n",
    "L[1:3] = [(100, 101, 102)]\n",
    "print(L)"
   ]
  },
  {
   "cell_type": "markdown",
   "id": "4e733afd",
   "metadata": {},
   "source": [
    "#### L의 위치 2,3이 있는 위치에 튜플형 (100, 101, 102)을 넣어서 아래와 같은 결과가 나온다."
   ]
  },
  {
   "cell_type": "markdown",
   "id": "fc45d7c4",
   "metadata": {},
   "source": [
    "### 1-8"
   ]
  },
  {
   "cell_type": "code",
   "execution_count": 20,
   "id": "f8682b0d",
   "metadata": {},
   "outputs": [
    {
     "name": "stdout",
     "output_type": "stream",
     "text": [
      "[1, [100, 101, 102], 4, 5]\n"
     ]
    }
   ],
   "source": [
    "L=[1, 2, 3, 4, 5]\n",
    "L[1:3] = [[100, 101, 102]]\n",
    "print(L)"
   ]
  },
  {
   "cell_type": "markdown",
   "id": "7eb9c2d0",
   "metadata": {},
   "source": [
    "#### L의 위치 2,3이 있는 위치에 리스트 형 [100, 101, 102]을 넣어서 아래와 같은 결과가 나온다."
   ]
  },
  {
   "cell_type": "markdown",
   "id": "dd134815",
   "metadata": {},
   "source": [
    "# 2"
   ]
  },
  {
   "cell_type": "code",
   "execution_count": 32,
   "id": "635b929b",
   "metadata": {},
   "outputs": [
    {
     "name": "stdout",
     "output_type": "stream",
     "text": [
      "Python and World Hello\n",
      "PythonandWorldHello\n"
     ]
    }
   ],
   "source": [
    "# 2-1\n",
    "S='Hello World and Python'\n",
    "S1=S.split()\n",
    "S1.reverse()\n",
    "S1=' '.join(S1)\n",
    "print(S1)\n",
    "\n",
    "# 2-2\n",
    "S1=S1.split()\n",
    "S1=''.join(S1)\n",
    "print(S1)\n"
   ]
  },
  {
   "cell_type": "markdown",
   "id": "24a49c12",
   "metadata": {},
   "source": [
    "#### 2-1 split 함수를 이용해 분리 후에 reverse를 이용해서 뒤집었고, join을 이용해 합쳤다. \n",
    "#### 2-2는 2-1의 값에서 split을 통해 분리를 하고 join을 통해 띄어쓰기 없이 합쳤다."
   ]
  },
  {
   "cell_type": "markdown",
   "id": "5d606148",
   "metadata": {},
   "source": [
    "# 3"
   ]
  },
  {
   "cell_type": "code",
   "execution_count": 127,
   "id": "5243c154",
   "metadata": {},
   "outputs": [
    {
     "name": "stdout",
     "output_type": "stream",
     "text": [
      "[1, 2, 3, 1, 2, 3, 1, 2, 3]\n",
      "[[0, 2, 3], [0, 2, 3], [0, 2, 3]]\n"
     ]
    }
   ],
   "source": [
    "a = [1, 2, 3]\n",
    "b = a * 3\n",
    "c = [a] * 3\n",
    "\n",
    "a[0]=0\n",
    "print(b)\n",
    "print(c)"
   ]
  },
  {
   "cell_type": "markdown",
   "id": "025c8d21",
   "metadata": {},
   "source": [
    "#### b는 a 리스트를 복사해서 가져와 쓰기 때문에 a 리스트의 값을 바꿔주어도 변화가 없고 c는 a 리스트를 가르키고있기 때문에 a리스트가 바뀌면 변화된 값을 받아드린다.\n",
    "#### 또 b는 a 리스트를 3개를 그대로  b리스트에 3번 복사하여 넣어주어서 인덱스가 9개인 리스트가 되었고, c는 a 리스트를 하나로 리스트로 다시 묶어서 3개의 인덱스를 가지고 있는 하나의 리스트로 만들고, 그것을 3번 복사하여 3개의 인덱스를 들고있는 리스트가 3개 만들어졌다."
   ]
  },
  {
   "cell_type": "markdown",
   "id": "8f0c1b75",
   "metadata": {},
   "source": [
    "# 4"
   ]
  },
  {
   "cell_type": "markdown",
   "id": "a7fb5778",
   "metadata": {},
   "source": [
    "### 4-1"
   ]
  },
  {
   "cell_type": "code",
   "execution_count": 131,
   "id": "6182ff34",
   "metadata": {},
   "outputs": [
    {
     "name": "stdout",
     "output_type": "stream",
     "text": [
      "['first star', 'second star', 'third star']\n"
     ]
    }
   ],
   "source": [
    "s = '  first star   :   second star   :    third star  '\n",
    "s1=s.split(\":\")\n",
    "s2=[]\n",
    "for i in range(len(s1)):\n",
    "    s2.append(s1[i].strip())\n",
    "print(s2)"
   ]
  },
  {
   "cell_type": "markdown",
   "id": "b98c4de2",
   "metadata": {},
   "source": [
    "#### split을 통해 :을 기준으로 분리를 해주고 반복문안에서 strip과 append 이용해서 양쪽에 빈칸을 없애주고, s2에 값을 넣어주었다."
   ]
  },
  {
   "cell_type": "markdown",
   "id": "1c893ed4",
   "metadata": {},
   "source": [
    "### 4-2"
   ]
  },
  {
   "cell_type": "code",
   "execution_count": 132,
   "id": "022ae699",
   "metadata": {},
   "outputs": [
    {
     "name": "stdout",
     "output_type": "stream",
     "text": [
      "['first star', 'second star', 'third star']\n"
     ]
    }
   ],
   "source": [
    "s = '  first star   :   second star   :    third star  '\n",
    "s1=s.split(\":\")\n",
    "s2=[]\n",
    "s2=[s1[i].strip() for i in range(len(s1))]\n",
    "print(s2)"
   ]
  },
  {
   "cell_type": "markdown",
   "id": "8e7c86a3",
   "metadata": {},
   "source": [
    "#### split을 통해 :을 기준으로 분리를 해주고 리스트 내포와 strip을 이용해서 양쪽에 빈칸을 없애주었다."
   ]
  },
  {
   "cell_type": "markdown",
   "id": "50d2845e",
   "metadata": {},
   "source": [
    "# 5"
   ]
  },
  {
   "cell_type": "markdown",
   "id": "be4e956a",
   "metadata": {},
   "source": [
    "### 5-1"
   ]
  },
  {
   "cell_type": "code",
   "execution_count": 61,
   "id": "fe3e82bb",
   "metadata": {},
   "outputs": [
    {
     "name": "stdout",
     "output_type": "stream",
     "text": [
      "45\n",
      "25\n"
     ]
    }
   ],
   "source": [
    "def addall(a):\n",
    "    print(sum([i for i in a]))\n",
    "\n",
    "def addallodd(a):\n",
    "    print(sum([i for i in a if i%2==1]))\n",
    "    \n",
    "addall([1, 2, 3, 4, 5, 6, 7, 8, 9])\n",
    "addallodd([1, 2, 3, 4, 5, 6, 7, 8, 9])"
   ]
  },
  {
   "cell_type": "markdown",
   "id": "1bc7a059",
   "metadata": {},
   "source": [
    "#### 리스트 내포방식을 이용해서 addall과 addallodd를 나타내었다"
   ]
  },
  {
   "cell_type": "markdown",
   "id": "59857663",
   "metadata": {},
   "source": [
    "### 5-2"
   ]
  },
  {
   "cell_type": "code",
   "execution_count": 63,
   "id": "d40df580",
   "metadata": {},
   "outputs": [
    {
     "name": "stdout",
     "output_type": "stream",
     "text": [
      "45\n",
      "25\n"
     ]
    }
   ],
   "source": [
    "def addall(a):\n",
    "    sum=0\n",
    "    for i in a:\n",
    "        sum+=i\n",
    "    print(sum)\n",
    "\n",
    "def addallodd(a):\n",
    "    sum=0\n",
    "    for i in a:\n",
    "        if(i%2==1):\n",
    "            sum+=i\n",
    "    print(sum)\n",
    "\n",
    "    \n",
    "addall([1, 2, 3, 4, 5, 6, 7, 8, 9])\n",
    "addallodd([1, 2, 3, 4, 5, 6, 7, 8, 9])"
   ]
  },
  {
   "cell_type": "markdown",
   "id": "a2b5d9b2",
   "metadata": {},
   "source": [
    "#### for in 리터럴 방식을 이용해서 addall과 addallodd를 나타내었다"
   ]
  },
  {
   "cell_type": "markdown",
   "id": "35b28301",
   "metadata": {},
   "source": [
    "# 6"
   ]
  },
  {
   "cell_type": "code",
   "execution_count": 71,
   "id": "6aea0034",
   "metadata": {},
   "outputs": [
    {
     "name": "stdout",
     "output_type": "stream",
     "text": [
      "140584501993920\n",
      "140584501993920\n",
      "{'low': [1, 2, 3], 'high': [4, 5, 6]}\n",
      "{'low': [1, 2, 3], 'high': [4, 5, 6]}\n",
      "{'low': [1, 2, 3], 'high': [4, 5, 6]}\n",
      "\n",
      "140584502063040\n",
      "140584501993920\n",
      "{'low': [10, 20, 30], 'high': [4, 500, 6]}\n",
      "{'low': [10, 20, 30], 'high': [4, 500, 6]}\n",
      "{'low': [1, 2, 3], 'high': [4, 500, 6]}\n"
     ]
    }
   ],
   "source": [
    "# 6\n",
    "\n",
    "L1 = [1, 2, 3]\n",
    "L2 = [4, 5, 6]\n",
    "d = {'low':L1, 'high':L2}\n",
    "e = d\n",
    "f = d.copy()\n",
    "print(id(e['low']))\n",
    "print(id(f['low']))\n",
    "print(d)\n",
    "print(e)\n",
    "print(f)\n",
    "print()\n",
    "d['low'] = [10, 20, 30]\n",
    "d['high'][1] = 500\n",
    "print(id(e['low']))\n",
    "print(id(f['low']))\n",
    "print(d)\n",
    "print(e)\n",
    "print(f)"
   ]
  },
  {
   "cell_type": "markdown",
   "id": "5da5766d",
   "metadata": {},
   "source": [
    "#### 1) e = d 이 코드로 인해 e가 d가 가르키고 있는 방향을 똑같이 가르키게 되었기 때문이다.\n",
    "#### 2) f는 e와 다르게 깊은 복사가 아닌 얕은 복사를 해서 같은 곳을 가르키기 보다는 값만 복사해와서 다른 위치의 값을 가르켰다. d['low'] = [10, 20, 30] 이렇게 새로운 리스트를 넣어주게 되면  low가 가르키는 key의 위치가 L1에서 다른 곳으로 달라지기에 다른 곳을 가르키는 f는 계속해서 L1을 가르키기에 f는 값이 바뀌지 않는다 또 d['high'][1] = 500은 low가 가르키는 key의 위치(L1)가 달라지는 것이 아닌 값만 달라지기에 L1을 가르키는 f의 값도 바뀐다."
   ]
  },
  {
   "cell_type": "markdown",
   "id": "64d39ccb",
   "metadata": {},
   "source": [
    "# 7"
   ]
  },
  {
   "cell_type": "code",
   "execution_count": 120,
   "id": "9d73e724",
   "metadata": {},
   "outputs": [
    {
     "name": "stdout",
     "output_type": "stream",
     "text": [
      "[('five', 5), ('four', 4), ('one', 1), ('three', 3), ('two', 2)]\n",
      "[('two', 2), ('three', 3), ('one', 1), ('four', 4), ('five', 5)]\n",
      "[('one', 1), ('two', 2), ('three', 3), ('four', 4), ('five', 5)]\n",
      "[('five', 5), ('four', 4), ('three', 3), ('two', 2), ('one', 1)]\n"
     ]
    }
   ],
   "source": [
    "d = {'one':1, 'two':2, 'three':3, 'four':4, 'five':5}\n",
    "print(sorted(d.items()))\n",
    "print(sorted(d.items(),reverse=True))\n",
    "\n",
    "print(sorted(d.items(),key=lambda x: x[1]))\n",
    "print(sorted(d.items(),key=lambda x: x[1],reverse=True))"
   ]
  },
  {
   "cell_type": "markdown",
   "id": "a5d405bc",
   "metadata": {},
   "source": [
    "#### 키의 알파벳 오름차순과 내림차순은 sorted 함수와 reverse를 이용하여 나타내었다.값의 오름차수 내림차순은 위에 방식에서 람다 방식을 추가하여 나타내었다."
   ]
  },
  {
   "cell_type": "markdown",
   "id": "8152f530",
   "metadata": {},
   "source": [
    "# 8"
   ]
  },
  {
   "cell_type": "code",
   "execution_count": 105,
   "id": "a5534540",
   "metadata": {},
   "outputs": [
    {
     "name": "stdout",
     "output_type": "stream",
     "text": [
      "True\n"
     ]
    }
   ],
   "source": [
    "def length(x):\n",
    "    num=1\n",
    "    while(True):\n",
    "        if(x/10<1): \n",
    "            return num\n",
    "        else:\n",
    "            num+=1\n",
    "            x=x/10\n",
    "\n",
    "def isStrange(num):\n",
    "    if(0<=num<10): return True\n",
    "    elif(length(num)>1):\n",
    "        if(num%length(num)==0):\n",
    "            if(isStrange(num/length(num))!=True): return False\n",
    "        else: return False\n",
    "    return True\n",
    "\n",
    "        \n",
    "print(isStrange(56))"
   ]
  },
  {
   "cell_type": "markdown",
   "id": "60f8b09b",
   "metadata": {},
   "source": [
    "#### 문제에 나오는 대로 각 조건에 대해 if문을 달았고, strange 함수를 다시 불러야 하는 곳에서 재귀함수를 이용하여 나타내었다. length는 코드를 더 깔끔하게 보일 수 있게 따로 함수를 만들어서 나타내었다.\n"
   ]
  },
  {
   "cell_type": "markdown",
   "id": "c0d184d1",
   "metadata": {},
   "source": [
    "# 9"
   ]
  },
  {
   "cell_type": "code",
   "execution_count": 121,
   "id": "f7857934",
   "metadata": {},
   "outputs": [
    {
     "name": "stdout",
     "output_type": "stream",
     "text": [
      "[3, 4, 6, 12]\n"
     ]
    }
   ],
   "source": [
    "def solve(a):\n",
    "    \n",
    "    num=sum(a)\n",
    "    \n",
    "    big=0\n",
    "    for i in a: \n",
    "        if(i>big): big=i \n",
    "            \n",
    "    find=[i for i in range(1, num+1) if num % i == 0 if i>=big]\n",
    "    \n",
    "    for i in find:\n",
    "        find2=i\n",
    "        for i2 in a:\n",
    "            find2-=i2\n",
    "            if(find2<0):\n",
    "                find.remove[i]\n",
    "                break\n",
    "            elif(find2==0): find2=i\n",
    "    \n",
    "    return find\n",
    "\n",
    "    \n",
    "\n",
    "\n",
    "a= [1, 2, 1, 1, 1, 2, 1, 3] \n",
    "print(solve(a))"
   ]
  },
  {
   "cell_type": "markdown",
   "id": "365aced7",
   "metadata": {},
   "source": [
    "####  예시 1,2번은 해결할 수 있었으나 계산 복잡도가 n 제곱 이다 보니깐 3번은 해결하지 못하였다. a리스트의 값이 같아도 순서를 바꿔면 결과값이 달리지기에 한번 쭉 스캔할 필요가 느껴졌는데 그렇게하다보면 시간 복잡도가 n제곱이 되어서 어떻게 해결할지 방법을 찾지 못하였다."
   ]
  },
  {
   "cell_type": "code",
   "execution_count": null,
   "id": "c7f97fdf",
   "metadata": {},
   "outputs": [],
   "source": [
    "# Incremental Project 문제"
   ]
  }
 ],
 "metadata": {
  "kernelspec": {
   "display_name": "Python 3",
   "language": "python",
   "name": "python3"
  },
  "language_info": {
   "codemirror_mode": {
    "name": "ipython",
    "version": 3
   },
   "file_extension": ".py",
   "mimetype": "text/x-python",
   "name": "python",
   "nbconvert_exporter": "python",
   "pygments_lexer": "ipython3",
   "version": "3.8.8"
  }
 },
 "nbformat": 4,
 "nbformat_minor": 5
}
