{
 "cells": [
  {
   "cell_type": "code",
   "execution_count": 7,
   "id": "74adc3cf",
   "metadata": {},
   "outputs": [
    {
     "name": "stdout",
     "output_type": "stream",
     "text": [
      "Python Hello\n"
     ]
    }
   ],
   "source": [
    "# 1번\n",
    "a='Hello Python'\n",
    "a1=a[6:12]+' '+a[:5]\n",
    "a=a1\n",
    "print(a)"
   ]
  },
  {
   "cell_type": "code",
   "execution_count": 10,
   "id": "75b5d4bc",
   "metadata": {},
   "outputs": [
    {
     "name": "stdout",
     "output_type": "stream",
     "text": [
      "World Python Hello\n"
     ]
    }
   ],
   "source": [
    "# 2번\n",
    "b='Hello Python World'\n",
    "b1=b[13:18]+b[5:13]+b[:5]\n",
    "b=b1\n",
    "print(b)"
   ]
  },
  {
   "cell_type": "code",
   "execution_count": 11,
   "id": "4b9698fc",
   "metadata": {},
   "outputs": [
    {
     "name": "stdout",
     "output_type": "stream",
     "text": [
      "olleH\n"
     ]
    }
   ],
   "source": [
    "# 3번\n",
    "c='Hello'\n",
    "c1=c[-1::-1]\n",
    "c=c1\n",
    "print(c)"
   ]
  },
  {
   "cell_type": "code",
   "execution_count": 20,
   "id": "cb9baa86",
   "metadata": {},
   "outputs": [
    {
     "name": "stdout",
     "output_type": "stream",
     "text": [
      "p\n",
      "p\n",
      "p\n"
     ]
    },
    {
     "ename": "TypeError",
     "evalue": "string indices must be integers",
     "output_type": "error",
     "traceback": [
      "\u001b[0;31m---------------------------------------------------------------------------\u001b[0m",
      "\u001b[0;31mTypeError\u001b[0m                                 Traceback (most recent call last)",
      "\u001b[0;32m<ipython-input-20-3b6feefd674e>\u001b[0m in \u001b[0;36m<module>\u001b[0;34m\u001b[0m\n\u001b[1;32m      5\u001b[0m \u001b[0;31m#print(s[-100,100])\u001b[0m\u001b[0;34m\u001b[0m\u001b[0;34m\u001b[0m\u001b[0;34m\u001b[0m\u001b[0m\n\u001b[1;32m      6\u001b[0m \u001b[0;31m#print(s[-1,1])\u001b[0m\u001b[0;34m\u001b[0m\u001b[0;34m\u001b[0m\u001b[0;34m\u001b[0m\u001b[0m\n\u001b[0;32m----> 7\u001b[0;31m \u001b[0mprint\u001b[0m\u001b[0;34m(\u001b[0m\u001b[0ms\u001b[0m\u001b[0;34m[\u001b[0m\u001b[0;34m-\u001b[0m\u001b[0;36m3\u001b[0m\u001b[0;34m,\u001b[0m\u001b[0;36m3\u001b[0m\u001b[0;34m]\u001b[0m\u001b[0;34m)\u001b[0m\u001b[0;34m\u001b[0m\u001b[0;34m\u001b[0m\u001b[0m\n\u001b[0m\u001b[1;32m      8\u001b[0m \u001b[0;31m# 1. 몇 차원이 되든 [0]번째 리스트는 p이기 때문이다\u001b[0m\u001b[0;34m\u001b[0m\u001b[0;34m\u001b[0m\u001b[0;34m\u001b[0m\u001b[0m\n\u001b[1;32m      9\u001b[0m \u001b[0;31m# 2. s[-1]이면 s[-6]이면 p이다. p 앞에 숫자가 더 이상 없으므로 s[-100]은 오버플로우가 발생한다. s[100]도 마찬가지이다.\u001b[0m\u001b[0;34m\u001b[0m\u001b[0;34m\u001b[0m\u001b[0;34m\u001b[0m\u001b[0m\n",
      "\u001b[0;31mTypeError\u001b[0m: string indices must be integers"
     ]
    }
   ],
   "source": [
    "# 4번\n",
    "s=\"python\"\n",
    "print(s[0])\n",
    "print(s[0][0])\n",
    "print(s[0][0][0])\n",
    "#print(s[-100,100])\n",
    "#print(s[1,-1])\n",
    "print(s[3,-3])\n",
    "# A. 몇 차원이 되든 [0]번째 리스트는 p이기 때문이다\n",
    "# B. s[-1]이면 n, s[-6]이면 p이다. p 앞에 숫자가 더 이상 없으므로 s[-100]은 오버플로우가 발생한다. s[100]도 마찬가지이다.\n",
    "# C. -100번째 항부터 100번째항까지 하나하나 출력해 나가야하는데 -100번째 항이 없기 때문에 출력할 수가 없다.\n",
    "# D. s[1] 즉 'y'가 출력되고 계속해서 1씩 증가해야하는데 끝인 -1은 음수이기 때문에 -1로 도달하지 못한다.\n",
    "# E. s[3] 즉 'h'가 출력되고 계속해서 1씩 증가해야하는데 끝인 -3은 음수이기 때문에 -3로 도달하지 못한다."
   ]
  },
  {
   "cell_type": "code",
   "execution_count": 21,
   "id": "a6a50d0d",
   "metadata": {},
   "outputs": [
    {
     "name": "stdout",
     "output_type": "stream",
     "text": [
      "1\n",
      "3\n",
      "5\n",
      "7\n",
      "9\n",
      "11\n",
      "13\n",
      "15\n",
      "17\n",
      "19\n",
      "21\n",
      "23\n",
      "25\n",
      "27\n",
      "29\n",
      "31\n",
      "33\n",
      "35\n",
      "37\n",
      "39\n",
      "41\n",
      "43\n",
      "45\n",
      "47\n",
      "49\n",
      "51\n",
      "53\n",
      "55\n",
      "57\n",
      "59\n",
      "61\n",
      "63\n",
      "65\n",
      "67\n",
      "69\n",
      "71\n",
      "73\n",
      "75\n",
      "77\n",
      "79\n",
      "81\n",
      "83\n",
      "85\n",
      "87\n",
      "89\n",
      "91\n",
      "93\n",
      "95\n",
      "97\n",
      "99\n"
     ]
    }
   ],
   "source": [
    "# 5번\n",
    "for i in range(1,100):\n",
    "    if(i%2==1):\n",
    "        print(i)"
   ]
  },
  {
   "cell_type": "code",
   "execution_count": 24,
   "id": "c6dc2427",
   "metadata": {},
   "outputs": [
    {
     "name": "stdout",
     "output_type": "stream",
     "text": [
      "2450\n"
     ]
    }
   ],
   "source": [
    "# 6번\n",
    "sum=0\n",
    "i=2\n",
    "while i<100:\n",
    "    sum+=i\n",
    "    i+=2\n",
    "print(sum)"
   ]
  },
  {
   "cell_type": "code",
   "execution_count": 26,
   "id": "2113e8e7",
   "metadata": {},
   "outputs": [
    {
     "name": "stdout",
     "output_type": "stream",
     "text": [
      "정수를 입력하세요: 123\n",
      "321\n"
     ]
    }
   ],
   "source": [
    "# 7번\n",
    "k=input(\"정수를 입력하세요: \")\n",
    "print(k[::-1])"
   ]
  },
  {
   "cell_type": "code",
   "execution_count": 60,
   "id": "d84316a4",
   "metadata": {},
   "outputs": [
    {
     "name": "stdout",
     "output_type": "stream",
     "text": [
      "정수를 입력하시요: 18\n",
      "2\n",
      "3\n",
      "5\n",
      "7\n",
      "11\n",
      "13\n",
      "17\n"
     ]
    }
   ],
   "source": [
    "# 8번\n",
    "q=int(input(\"정수를 입력하시요: \"))\n",
    "for i in range(1,q+1):\n",
    "    t=0\n",
    "    for i2 in range(1,i+1): \n",
    "        if(i%i2==0): t+=1\n",
    "    if(t==2): print(i)\n",
    "    "
   ]
  },
  {
   "cell_type": "code",
   "execution_count": 59,
   "id": "6b8d02ff",
   "metadata": {},
   "outputs": [],
   "source": [
    "#kevin 문제 이상\n",
    "## kevin은 단어를 만들때 B를 사용안하는데 이유를 모르겠음."
   ]
  },
  {
   "cell_type": "code",
   "execution_count": 46,
   "id": "d5d36afa",
   "metadata": {},
   "outputs": [
    {
     "name": "stdout",
     "output_type": "stream",
     "text": [
      "0\n"
     ]
    }
   ],
   "source": [
    "# 10번\n",
    "def appendDelete(s,t,k):\n",
    "    same=0\n",
    "    short=0\n",
    "    if len(s)>len(t):\n",
    "        short=len(t)\n",
    "    else:\n",
    "        short=len(s)\n",
    "        \n",
    "    for i in range(0,short):\n",
    "        if(s[i]==t[i]): \n",
    "            same+=1\n",
    "        else:\n",
    "            break\n",
    "    if(len(t)+len(s)<k):\n",
    "        return 'yes'\n",
    "    if(k-(len(s)+len(t)-2*same)>=0 and (k-(len(s)+len(t)-2*same))%2==0):\n",
    "        return 'yes'\n",
    "    return 'NO'\n",
    "\n",
    "print(appendDelete('ashley','ash',9))\n",
    "    "
   ]
  },
  {
   "cell_type": "code",
   "execution_count": 62,
   "id": "9d1a844f",
   "metadata": {},
   "outputs": [
    {
     "ename": "NameError",
     "evalue": "name 'python' is not defined",
     "output_type": "error",
     "traceback": [
      "\u001b[0;31m---------------------------------------------------------------------------\u001b[0m",
      "\u001b[0;31mNameError\u001b[0m                                 Traceback (most recent call last)",
      "\u001b[0;32m<ipython-input-62-b9432156fa10>\u001b[0m in \u001b[0;36m<module>\u001b[0;34m\u001b[0m\n\u001b[0;32m----> 1\u001b[0;31m \u001b[0mpython\u001b[0m \u001b[0;34m-\u001b[0m\u001b[0mversion\u001b[0m\u001b[0;34m\u001b[0m\u001b[0;34m\u001b[0m\u001b[0m\n\u001b[0m",
      "\u001b[0;31mNameError\u001b[0m: name 'python' is not defined"
     ]
    }
   ],
   "source": [
    "python -version"
   ]
  },
  {
   "cell_type": "code",
   "execution_count": null,
   "id": "faecf3a7",
   "metadata": {},
   "outputs": [],
   "source": []
  }
 ],
 "metadata": {
  "kernelspec": {
   "display_name": "Python 3",
   "language": "python",
   "name": "python3"
  },
  "language_info": {
   "codemirror_mode": {
    "name": "ipython",
    "version": 3
   },
   "file_extension": ".py",
   "mimetype": "text/x-python",
   "name": "python",
   "nbconvert_exporter": "python",
   "pygments_lexer": "ipython3",
   "version": "3.8.8"
  }
 },
 "nbformat": 4,
 "nbformat_minor": 5
}
