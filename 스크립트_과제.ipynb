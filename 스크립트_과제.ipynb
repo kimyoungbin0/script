{
 "cells": [
  {
   "cell_type": "markdown",
   "id": "fe7949ce",
   "metadata": {},
   "source": [
    "# 1"
   ]
  },
  {
   "cell_type": "markdown",
   "id": "b6ec722a",
   "metadata": {},
   "source": [
    "### 공통점: 용도에 맞도록 구성한 객체 맴버들을 캡슐화 시킨 후 가져다 사용한다.\n",
    "### 차이점: 모듈은 파일 단위로 이름 공간을 구성 클래스는 클래스 영역 내에 이름 공간을 구성한다."
   ]
  },
  {
   "cell_type": "markdown",
   "id": "2e58b361",
   "metadata": {},
   "source": [
    "# 2"
   ]
  },
  {
   "cell_type": "code",
   "execution_count": 1,
   "id": "1b26565d",
   "metadata": {
    "scrolled": true
   },
   "outputs": [
    {
     "name": "stdout",
     "output_type": "stream",
     "text": [
      "...\n",
      "Hey~\n",
      "가지마~\n"
     ]
    }
   ],
   "source": [
    "class Music:\n",
    "    def sing(self):\n",
    "        print('...')\n",
    "\n",
    "class Pop(Music):\n",
    "    def sing(self):\n",
    "        print('Hey~')\n",
    "\n",
    "class Balad(Music):\n",
    "    def sing(self):\n",
    "        print('가지마~')\n",
    "\n",
    "class Rap(Music):\n",
    "    pass\n",
    "\n",
    "for each in (Rap(), Pop(), Balad()):\n",
    "    each.sing()"
   ]
  },
  {
   "cell_type": "markdown",
   "id": "7c742346",
   "metadata": {},
   "source": [
    "### 다형성: 상속 관계 내의 다른 클래스들의 인스턴스들이 같은 멤버 함수 호출에 대해 각각 다르게 반응하도록 하는 기능"
   ]
  },
  {
   "cell_type": "markdown",
   "id": "f89d4b48",
   "metadata": {},
   "source": [
    "# 3"
   ]
  },
  {
   "cell_type": "code",
   "execution_count": 2,
   "id": "730d17cd",
   "metadata": {},
   "outputs": [
    {
     "name": "stdout",
     "output_type": "stream",
     "text": [
      "[Count (step: 1)] 10\n",
      "[Count (step: 2)] 10\n",
      "[Count (step: 1)] 11\n",
      "[Count (step: 2)] 12\n",
      "[Count (step: 1)] 12\n",
      "[Count (step: 2)] 14\n",
      "[Count (step: 1)] 17\n",
      "[Count (step: 2)] 9\n",
      "True\n",
      "False\n",
      "False\n",
      "True\n",
      "True\n",
      "False\n"
     ]
    }
   ],
   "source": [
    "class Counter:\n",
    "    \n",
    "    def __init__(self, count,step=1):\n",
    "        self.count=count\n",
    "        self.step=step\n",
    "        \n",
    "    def __str__(self):\n",
    "        return '[Count (step: %d)] %d' %(self.step,self.count)\n",
    "    \n",
    "    def incr(self):\n",
    "        self.count+=self.step\n",
    "    \n",
    "    def __call__(self):\n",
    "        self.incr()\n",
    "        \n",
    "    def __add__(self, other):\n",
    "        self.count+=other\n",
    "        return self\n",
    "\n",
    "    def __sub__(self, other):\n",
    "        self.count -= other\n",
    "        return self\n",
    "    \n",
    "    def __gt__(self, y):\n",
    "        return self.count > y\n",
    "    def __lt__(self,y):\n",
    "        return self.count < y\n",
    "    def __eq__(self, y):\n",
    "        return self.count == y\n",
    "    def __ne__(self, y):\n",
    "        return self.count != y\n",
    "    \n",
    "\n",
    "c = Counter(10)\n",
    "d = Counter(10, 2)\n",
    "print(c)\n",
    "print(d)\n",
    "\n",
    "c.incr()\n",
    "d.incr()\n",
    "print(c)\n",
    "print(d)\n",
    "\n",
    "c()\n",
    "d()\n",
    "print(c)\n",
    "print(d)\n",
    "\n",
    "c = c + 5\n",
    "d = d - 5\n",
    "print(c)\n",
    "print(d)\n",
    "\n",
    "print(c > 10)\n",
    "print(d > 10)\n",
    "print(c < 10)\n",
    "print(d < 10)\n",
    "print(c == 17)\n",
    "print(d != 9)"
   ]
  },
  {
   "cell_type": "markdown",
   "id": "291168ce",
   "metadata": {},
   "source": [
    "### 각각 요구 상황에 맞게 __str__, incr, __call__, __add__, __sub__, __gt__, __It__, __eq__, __ne__를 만들어주었다.\n",
    "### incr 함수는 step만큼 counter을 올리게 만들었고, 직접 호출을 하면 incr 함수를 부르게 __call__함수를 만들었다."
   ]
  },
  {
   "cell_type": "markdown",
   "id": "1395f04c",
   "metadata": {},
   "source": [
    "# 4"
   ]
  },
  {
   "cell_type": "markdown",
   "id": "6ac49e4b",
   "metadata": {},
   "source": [
    "#### 먼저 __init()__함수가 실행이 되면 인자에 있는 리스트의 값을 모두 self에 복사한 뒤에 eliminate_duplicate(self) 함수를 이용하여 중복된 값을 제거하여 집합으로 만들어준다.\n",
    "#### 둘째로 __str()__함수가 실행되면 result 변수를 \"MySet: {\"로 초기화 한 뒤, 반복문을 통해 self의 값, ' ,'을 하나씩 넣어준다.  그 후 마지막 ' ,'을 빼고 }을 넣어준 뒤 반환해준다.\n",
    "#### 마지막으로 elimicate_duplicate()이 실행 되면 빈 리스트 s를 만들고, 반복문과 조건문을 통해 값을 하나씩 넣어주되 겹치는 수는 다시 넣지 않는다. 그리고 매개변수로 받은 l을 비워준다음 s에 있는 값들을 복사해준다."
   ]
  },
  {
   "cell_type": "markdown",
   "id": "ca1e0368",
   "metadata": {},
   "source": [
    "# 5"
   ]
  },
  {
   "cell_type": "code",
   "execution_count": 3,
   "id": "2f3667ba",
   "metadata": {},
   "outputs": [
    {
     "name": "stdout",
     "output_type": "stream",
     "text": [
      "MySet: {1 ,2 ,3}\n",
      "MySet: {2 ,3 ,4 ,5 ,6 ,7 ,8 ,9}\n",
      "MySet: {1 ,2 ,3 ,4 ,5 ,6 ,7 ,8 ,9}\n",
      "MySet: {2 ,3}\n",
      "MySet: {1 ,2}\n"
     ]
    }
   ],
   "source": [
    "class MySet(list):\n",
    "    def __init__(self, l):\n",
    "        for e in l:\n",
    "            self.append(e)\n",
    "        MySet.eliminate_duplicate(self)\n",
    "    \n",
    "    def __str__(self):\n",
    "        result = \"MySet: {\"\n",
    "        for e in self:\n",
    "            result = result + str(e) + \" ,\"\n",
    "        result = result[0:len(result)-2] + \"}\"\n",
    "        return result\n",
    "    \n",
    "    def __or__(self, B):\n",
    "        k=MySet(self)\n",
    "        k.extend(B)\n",
    "        MySet.eliminate_duplicate(k)\n",
    "        return k\n",
    "    \n",
    "    def __and__(self, B):\n",
    "        k=MySet(self)\n",
    "        k.clear()\n",
    "        for e in self:\n",
    "            if e in B:\n",
    "                k.append(e)    \n",
    "        return k\n",
    "    \n",
    "    def __sub__(self, B):\n",
    "        k=MySet(self)\n",
    "        for e in self:\n",
    "            if e in B:\n",
    "                k.remove(e)    \n",
    "        return k\n",
    "\n",
    "    @staticmethod    \n",
    "    def eliminate_duplicate(l):\n",
    "        s = []\n",
    "        for e in l:\n",
    "            if e not in s:\n",
    "                s.append(e)\n",
    "        l[:] = []\n",
    "        for e in s:\n",
    "            l.append(e)\n",
    "    \n",
    "    \n",
    "    \n",
    "if __name__ == \"__main__\":\n",
    "    s = MySet([1, 2, 2, 3])\n",
    "    print(s)\n",
    "    t = MySet([2, 3, 4, 5, 6, 7, 8, 8, 8, 8, 8, 9])\n",
    "    print(t)\n",
    "    u = s | t\n",
    "    print(u)\n",
    "    u = s & t\n",
    "    print(u)\n",
    "    s = MySet([1, 2, 3])\n",
    "    t = MySet([3, 4, 5])\n",
    "    u = s - t\n",
    "    print(u)"
   ]
  },
  {
   "cell_type": "markdown",
   "id": "350a3928",
   "metadata": {},
   "source": [
    "#### 먼저 합집합은 새로운 k 집합을 self값을 그대로 복사 받아 뒤에 리스트와 합쳐주고, 겹치는 것을 제거해준 후 k 집합을 반환해준다.\n",
    "#### 교집합은 새로운 k 집합을 self값을 그대로 복사 받아 뒤에 빈 집합으로 다시 초기화 해주고, 반복문과 조건문을 통해 앞에 집합과 뒤에 집합에서 같은 값을 k 집합에 넣어준뒤 k 집합을 반환해준다.\n",
    "#### 차집합은 새로운 k 집합을 self값을 그대로 복사 받고 반복문과 조건문을 이용하여 k집합에서 그 뒤에 집합과 교집합을 빼준뒤 k 집합을 반환해준다."
   ]
  },
  {
   "cell_type": "markdown",
   "id": "c2a15e47",
   "metadata": {},
   "source": [
    "### 부모 클래스가 리스트이기에 리스트의 내장함수는 사용가능하다."
   ]
  },
  {
   "cell_type": "markdown",
   "id": "3cd61ffd",
   "metadata": {},
   "source": [
    "#### 소감\n",
    "#### 스크립트라는 과목을 통해 파이썬에 대해 능숙해질 수 있는 기회가 돼서 좋았습니다."
   ]
  }
 ],
 "metadata": {
  "kernelspec": {
   "display_name": "Python 3",
   "language": "python",
   "name": "python3"
  },
  "language_info": {
   "codemirror_mode": {
    "name": "ipython",
    "version": 3
   },
   "file_extension": ".py",
   "mimetype": "text/x-python",
   "name": "python",
   "nbconvert_exporter": "python",
   "pygments_lexer": "ipython3",
   "version": "3.8.8"
  }
 },
 "nbformat": 4,
 "nbformat_minor": 5
}
