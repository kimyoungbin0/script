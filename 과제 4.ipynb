{
 "cells": [
  {
   "cell_type": "markdown",
   "id": "622fd73c",
   "metadata": {},
   "source": [
    "# 1"
   ]
  },
  {
   "cell_type": "markdown",
   "id": "d2a8071a",
   "metadata": {},
   "source": [
    "### 1-1"
   ]
  },
  {
   "cell_type": "code",
   "execution_count": 319,
   "id": "b8f26b9e",
   "metadata": {},
   "outputs": [
    {
     "name": "stdout",
     "output_type": "stream",
     "text": [
      "pig ham\n",
      "cat dog\n",
      "ham bird\n",
      "dog pig\n",
      "\n"
     ]
    }
   ],
   "source": [
    "with open('s.txt', 'w') as f:\n",
    "    f.write('pig ham\\n')\n",
    "    f.write('cat dog\\n')\n",
    "    f.write('ham bird\\n')\n",
    "    f.write('dog pig\\n')\n",
    "\n",
    "with open('s.txt', 'r') as f:\n",
    "    print(f.read())"
   ]
  },
  {
   "cell_type": "markdown",
   "id": "e62d808a",
   "metadata": {},
   "source": [
    "#### w을 통해 s.txt에 넣어야할 값을 줄마다 넣어준뒤  \n",
    "#### r을 통해 s.txt안에 값들을 읽어냈다."
   ]
  },
  {
   "cell_type": "markdown",
   "id": "8767006e",
   "metadata": {},
   "source": [
    "### 1-2"
   ]
  },
  {
   "cell_type": "code",
   "execution_count": 320,
   "id": "3f84f3ea",
   "metadata": {},
   "outputs": [
    {
     "name": "stdout",
     "output_type": "stream",
     "text": [
      "cat dog\n",
      "dog pig\n",
      "ham bird\n",
      "pig ham\n"
     ]
    }
   ],
   "source": [
    "with open('s.txt', 'w') as f:\n",
    "    f.write('pig ham\\n')\n",
    "    f.write('cat dog\\n')\n",
    "    f.write('ham bird\\n')\n",
    "    f.write('dog pig\\n')\n",
    "\n",
    "\n",
    "b=open(\"s.txt\").read()\n",
    "a=[]\n",
    "k=[]\n",
    "for i in b.split(sep='\\n'):\n",
    "    a.append(i)\n",
    "\n",
    "a.sort()\n",
    "\n",
    "with open('s1.txt', 'w') as f:\n",
    "    f.write(a[1])\n",
    "    f.write('\\n')\n",
    "    f.write(a[2])\n",
    "    f.write('\\n')\n",
    "    f.write(a[3])\n",
    "    f.write('\\n')\n",
    "    f.write(a[4])\n",
    "   \n",
    "    \n",
    "with open('s1.txt', 'r') as f:\n",
    "    print(f.read())"
   ]
  },
  {
   "cell_type": "markdown",
   "id": "1b12e5d3",
   "metadata": {},
   "source": [
    "#### w을 통해 s.txt에 넣어야할 값을 줄마다 넣어준뒤  \n",
    "#### s.txt 안의 값들을 split을 이용하여 줄 마다 분리한뒤\n",
    "#### sort 함수를 이용해 정렬하고 w을 통해 s1.txt에 넣어준뒤\n",
    "#### r을 통해 s1.txt안에 값들을 읽어냈다"
   ]
  },
  {
   "cell_type": "markdown",
   "id": "5a759d66",
   "metadata": {},
   "source": [
    "### 1-3"
   ]
  },
  {
   "cell_type": "code",
   "execution_count": 321,
   "id": "3a67be87",
   "metadata": {},
   "outputs": [
    {
     "name": "stdout",
     "output_type": "stream",
     "text": [
      "ham bird\n",
      "cat dog\n",
      "pig ham\n",
      "dog pig\n",
      "\n"
     ]
    }
   ],
   "source": [
    "with open('s.txt', 'w') as f:\n",
    "    f.write('pig ham\\n')\n",
    "    f.write('cat dog\\n')\n",
    "    f.write('ham bird\\n')\n",
    "    f.write('dog pig\\n')\n",
    "\n",
    "\n",
    "b=open(\"s.txt\").read()\n",
    "a=[]\n",
    "k=[]\n",
    "for i in b.split(sep='\\n'):\n",
    "    for j in i.split(sep=\" \"):\n",
    "        a.append(j)\n",
    "\n",
    "\n",
    "for i in range(1,5):\n",
    "    k.append(a[2*i-1])\n",
    "\n",
    "\n",
    "k.sort()\n",
    "with open('s2.txt', 'w') as f:\n",
    "    for i in range(4):\n",
    "        for i2 in range(1,5):\n",
    "            if(k[i]==a[2*i2-1]):\n",
    "                f.write(a[2*i2-2])\n",
    "                f.write(\" \")\n",
    "                f.write(a[2*i2-1])\n",
    "                f.write(\"\\n\")\n",
    "                \n",
    "   \n",
    "    \n",
    "with open('s2.txt', 'r') as f:\n",
    "    print(f.read())"
   ]
  },
  {
   "cell_type": "markdown",
   "id": "4073aae7",
   "metadata": {},
   "source": [
    "#### w을 통해 s.txt에 넣어야할 값을 줄마다 넣어준뒤  \n",
    "#### s.txt 안의 값들을 split을 이용하여 줄 마다, 띄어쓰기마다 분리한뒤 2번째 단어를 k리스트에 넣어준뒤\n",
    "#### sort 함수를 이용해 k를 정렬하고 w을 통해 s2.txt에 넣어준뒤\n",
    "#### r을 통해 s2.txt안에 값들을 읽어냈다"
   ]
  },
  {
   "cell_type": "markdown",
   "id": "fc2b1521",
   "metadata": {},
   "source": [
    "### 1-4"
   ]
  },
  {
   "cell_type": "code",
   "execution_count": 323,
   "id": "36f824c2",
   "metadata": {
    "scrolled": true
   },
   "outputs": [
    {
     "name": "stdout",
     "output_type": "stream",
     "text": [
      "pig ham cat \n",
      "dog ham bird \n",
      "dog pig \n"
     ]
    }
   ],
   "source": [
    "with open('s.txt', 'w') as f:\n",
    "    f.write('pig ham\\n')\n",
    "    f.write('cat dog\\n')\n",
    "    f.write('ham bird\\n')\n",
    "    f.write('dog pig\\n')\n",
    "\n",
    "\n",
    "b=open(\"s.txt\").read()\n",
    "a=[]\n",
    "k=[]\n",
    "\n",
    "for i in b.split(sep='\\n'):\n",
    "    for j in i.split(sep=\" \"):\n",
    "        a.append(j)\n",
    "\n",
    "\n",
    "with open('s3.txt', 'w') as f:\n",
    "    for i in range(8):\n",
    "        f.write(a[i])\n",
    "        f.write(\" \")\n",
    "        if(i%3==2):\n",
    "            f.write(\"\\n\")\n",
    "                \n",
    "   \n",
    "    \n",
    "with open('s3.txt', 'r') as f:\n",
    "    print(f.read())"
   ]
  },
  {
   "cell_type": "markdown",
   "id": "e33a580a",
   "metadata": {},
   "source": [
    "#### w을 통해 s.txt에 넣어야할 값을 줄마다 넣어준뒤  \n",
    "#### s.txt 안의 값들을 split을 이용하여 줄 마다, 띄어쓰기마다 분리한뒤  a리스트에 넣어준뒤\n",
    "#### w을 통해 3단어씩 분리하여 s3.txt에 넣어준뒤\n",
    "#### r을 통해 s3.txt안에 값들을 읽어냈다"
   ]
  },
  {
   "cell_type": "markdown",
   "id": "ba28f24e",
   "metadata": {},
   "source": [
    "# 2"
   ]
  },
  {
   "cell_type": "code",
   "execution_count": 328,
   "id": "88c94198",
   "metadata": {},
   "outputs": [
    {
     "name": "stdout",
     "output_type": "stream",
     "text": [
      "Welcome to our Service\n",
      "\n",
      "A. Sign Up\n",
      "B. Sign In\n",
      "C. Quit\n",
      "1\n",
      "아이디를 입력하시오love\n",
      "비밀번호를 입력하시오1234\n",
      "이름을 입력하시오김영빈\n",
      "학교를 입력하시오한기대\n",
      "Welcome to our Service\n",
      "\n",
      "A. Sign Up\n",
      "B. Sign In\n",
      "C. Quit\n",
      "2\n",
      "아이디를 입력하시오love\n",
      "비밀번호를 입력하시오1234\n",
      "Hello [김영빈]\n",
      "Welcome to our Service\n",
      "\n",
      "A. Sign Up\n",
      "B. Sign In\n",
      "C. Quit\n",
      "3\n"
     ]
    }
   ],
   "source": [
    "import os\n",
    "import hashlib\n",
    "\n",
    "while(True):\n",
    "    print(\"Welcome to our Service\\n\")\n",
    "    print(\"A. Sign Up\")\n",
    "    print(\"B. Sign In\")\n",
    "    print(\"C. Quit\")\n",
    "    choice=int(input())\n",
    "\n",
    "    if choice==1:\n",
    "        id=\"\"\n",
    "        while(True):\n",
    "            flag=0\n",
    "            id=input(\"아이디를 입력하시오\")\n",
    "            if os.path.isfile('access.txt'):\n",
    "                with open('access.txt', 'r') as f:\n",
    "                    lines=f.readlines()\n",
    "                    string=''.join(lines)\n",
    "                    word=string.split(\"\\n\")\n",
    "                    for i in range(len(word)):\n",
    "                        word1=word[i].split(\":\")\n",
    "                        if(word1[0][1:-1]==id):\n",
    "                            print(\"Sorry, the entered ID is already used.\")\n",
    "                            flag=1\n",
    "                            break\n",
    "                        \n",
    "            else:\n",
    "                break\n",
    "            \n",
    "            if(flag==0):\n",
    "                break\n",
    "            \n",
    "        pw=input(\"비밀번호를 입력하시오\")\n",
    "        pw_encrypted = hashlib.sha256(pw.encode()).hexdigest()\n",
    "        name=input(\"이름을 입력하시오\")\n",
    "        school=input(\"학교를 입력하시오\")\n",
    "        inf=(\"[{0}]:[{1}],[{2}],[{3}]\".format(id,pw_encrypted,name,school))\n",
    "        with open('access.txt', 'a') as f:\n",
    "            f.write(inf)\n",
    "            f.write(\"\\n\")\n",
    "        \n",
    "            \n",
    "    \n",
    "    elif choice==2:\n",
    "        \n",
    "        while(True):\n",
    "            flag1=0\n",
    "            flag2=0\n",
    "            find=0\n",
    "            id=input(\"아이디를 입력하시오\")\n",
    "            pw=input(\"비밀번호를 입력하시오\")\n",
    "            pw_encrypted = hashlib.sha256(pw.encode()).hexdigest()\n",
    "\n",
    "            if os.path.isfile('access.txt'):\n",
    "                with open('access.txt', 'r') as f:\n",
    "                    lines=f.readlines()\n",
    "                    string=''.join(lines)\n",
    "                    word=string.split(\"\\n\")\n",
    "                    for i in range(len(word)):\n",
    "                        word1=word[i].split(\":\")\n",
    "                        if(word1[0][1:-1]==id):\n",
    "                            flag1=0\n",
    "                            find=i\n",
    "                            break\n",
    "                        else:\n",
    "                            flag1=1\n",
    "                    \n",
    "                    if(flag1==1):\n",
    "                        print(\"Sorry, you are not a registered member.\")\n",
    "                    else:\n",
    "                        word3=word[find].split(\":\")\n",
    "                        word4=word3[1].split(\",\")\n",
    "                        if(word4[0][1:-1]!=pw_encrypted):\n",
    "                            print(\"Sorry, the entered password is not correct.\")\n",
    "                        else:\n",
    "                            word5=word[find].split(\",\")\n",
    "                            print(\"Hello [{0}]\".format(word5[1][1:-1]))\n",
    "                            break\n",
    "            else:\n",
    "                print(\"Sorry, you are not a registered member.\")\n",
    "                break\n",
    "                        \n",
    "    elif choice==3:\n",
    "        break\n",
    "\n",
    "                                  \n"
   ]
  },
  {
   "cell_type": "markdown",
   "id": "2d4b15e6",
   "metadata": {},
   "source": [
    "#### 먼저 1번 아이디 만들기는 아이디를 입력받은 후 이미 저장된 텍스트가 있을 경우 split문을 통해 아이디 값만 스캔을 하여 같은 값이 있나 확인하고\n",
    "#### 없을 시 나머지 필요한 정보들을 입력 받아 format을 통해 형식에 맞게 txt에 넣어준다.(비밀번호는 해쉬함수를 이용하여 넣어준다)\n",
    "#### 2번 로그인은 저장된 txt가 없을 경우에는 다시 선택창으로 보내주고, 있을 경우에는 아이디와 비밀번호를 입력받은 후\n",
    "#### split문을 통해 동일한 아이디와 비밀번호가 있는지 확인 후 동일하지 않으면 상황에 따른 오류를 출력해주고 동일하면 \n",
    "#### hello와 split을 통해 찾은 이름값을 출력해준다\n",
    "#### 마지막으로 3번은 break를 통해 while문에서 나온다"
   ]
  },
  {
   "cell_type": "markdown",
   "id": "6745c369",
   "metadata": {},
   "source": [
    "# 3"
   ]
  },
  {
   "cell_type": "code",
   "execution_count": 315,
   "id": "d1ddac68",
   "metadata": {},
   "outputs": [
    {
     "data": {
      "text/plain": [
       "[2.2, 2.7, 3.2, 3.7]"
      ]
     },
     "execution_count": 315,
     "metadata": {},
     "output_type": "execute_result"
    }
   ],
   "source": [
    "import math\n",
    "def frange(start,stop=\"\",step=0.1):\n",
    "    if(stop==\"\"):\n",
    "        stop=start\n",
    "        start=0.0\n",
    "    a=[]\n",
    "    while(start<stop):\n",
    "        a.append(round(start,1))\n",
    "        start+=step\n",
    "    return a\n",
    "\n",
    "#frange(0.5)\n",
    "#frange(1.0, 2.0)\n",
    "frange(2.2, 4.0, 0.5)"
   ]
  },
  {
   "cell_type": "markdown",
   "id": "b24e4ebd",
   "metadata": {},
   "source": [
    "#### stop=\"\"을 통해  인자를 하나만 받았을 때 오류가 발생하지 않게 만들어 주고 \n",
    "#### if(stop==\"\")문을 통해 인자를 하나만 받았을 때 start가 아닌 stop으로 만들어준다.\n",
    "#### while(start<stop):문을 통해 값이 stop보다 크거나 같아질때까지 step을 더해주면서 list에 넣어준다\n",
    "#### list a를 반환한다"
   ]
  },
  {
   "cell_type": "markdown",
   "id": "a0301e03",
   "metadata": {},
   "source": [
    "# 4"
   ]
  },
  {
   "cell_type": "code",
   "execution_count": 324,
   "id": "033f9e20",
   "metadata": {},
   "outputs": [
    {
     "data": {
      "text/plain": [
       "5"
      ]
     },
     "execution_count": 324,
     "metadata": {},
     "output_type": "execute_result"
    }
   ],
   "source": [
    "def sum(*args):\n",
    "    sum0=0\n",
    "    for i in args:\n",
    "        sum0+=i\n",
    "    return sum0\n",
    "\n",
    "#sum()\n",
    "#sum(1, 2)\n",
    "#sum(1, 2, 3, 4, 5)\n",
    "sum(1, 5, 7, 2, -10)"
   ]
  },
  {
   "cell_type": "markdown",
   "id": "cd87f19e",
   "metadata": {},
   "source": [
    "#### def sum(*args):을 통해 값을 유동성 있게 받을 수 있게 하고\n",
    "#### for i in args:을 통해 모든 값을 더해 sum0에 넣어준다.\n",
    "#### sum0을 반환한다."
   ]
  },
  {
   "cell_type": "markdown",
   "id": "b5ce89de",
   "metadata": {},
   "source": [
    "# 5"
   ]
  },
  {
   "cell_type": "code",
   "execution_count": 325,
   "id": "c4eb45aa",
   "metadata": {},
   "outputs": [
    {
     "data": {
      "text/plain": [
       "'ASAP'"
      ]
     },
     "execution_count": 325,
     "metadata": {},
     "output_type": "execute_result"
    }
   ],
   "source": [
    "def myinitial(a):\n",
    "    b1=[]\n",
    "    a1=a.upper()\n",
    "    b=list(map(str,a1.split(\" \")))\n",
    "    for i in b:\n",
    "        b1.append(i[0])\n",
    "    b2=\"\".join(b1)\n",
    "    return b2\n",
    "   \n",
    "           \n",
    "myinitial(\"as soon as possible\")\n"
   ]
  },
  {
   "cell_type": "markdown",
   "id": "3c5331cb",
   "metadata": {},
   "source": [
    "#### a1=a.upper()을 통해 a를 모두 대문자로 바꾸어주고\n",
    "#### b=list(map(str,a1.split(\" \")))을 통해 a1을 띄어쓰기를 기준으로 분리하여 리스트에 넣어준다.\n",
    "#### b1.append(i[0])을 통해 각 단어의 첫번째 단어를 b1에 넣어주고\n",
    "#### b2=\"\".join(b1)을 통해 그 단어들을 합쳐준다."
   ]
  },
  {
   "cell_type": "markdown",
   "id": "8466e81e",
   "metadata": {},
   "source": [
    "# 6"
   ]
  },
  {
   "cell_type": "code",
   "execution_count": 327,
   "id": "3b07875a",
   "metadata": {},
   "outputs": [
    {
     "data": {
      "text/plain": [
       "120"
      ]
     },
     "execution_count": 327,
     "metadata": {},
     "output_type": "execute_result"
    }
   ],
   "source": [
    "def myfact(n):\n",
    "    if n == 1:      \n",
    "        return 1    \n",
    "    return n * myfact(n - 1)    \n",
    " \n",
    "myfact(5)"
   ]
  },
  {
   "cell_type": "markdown",
   "id": "05a61b0d",
   "metadata": {},
   "source": [
    "#### return n * factorial(n - 1)  을 통해 계속해서 n이 1이 될때까지 재귀함수를 부른다\n",
    "#### n이 1이되면 1을 반환하고 뒤에서부터 앞으로 n * myfact(n - 1) 을 반환하면서 팩토리얼을 반환할 수 있게 한다."
   ]
  },
  {
   "cell_type": "markdown",
   "id": "b784df75",
   "metadata": {},
   "source": [
    "# 7"
   ]
  },
  {
   "cell_type": "markdown",
   "id": "1ad53757",
   "metadata": {},
   "source": [
    "#### import string을 사용하면 모듈 안의 함수를 사용할 때, 모듈명.함수명( )으로 하고, from string import * 을 사용하면 바로 함수명( )으로 사용한다."
   ]
  },
  {
   "cell_type": "markdown",
   "id": "5cfb6e94",
   "metadata": {},
   "source": [
    "#### --------------------------------------------------------------------------------------------------------------------------------------------\n",
    "#### 과제 느낀점\n",
    "#### 다른 것보다 아이디 생성, 해쉬함수를 이용한 비밀번호의 암호화를 하면서 로그인창을 만들어보는 것이 어려웠지만\n",
    "#### 이것을 직접 만들어볼 수 있어서 되게 재밌었고 알아가는 것이 많았던 것 같다."
   ]
  }
 ],
 "metadata": {
  "kernelspec": {
   "display_name": "Python 3",
   "language": "python",
   "name": "python3"
  }
 },
 "nbformat": 4,
 "nbformat_minor": 5
}
